{
  "nbformat": 4,
  "nbformat_minor": 0,
  "metadata": {
    "colab": {
      "name": "Challenge Classification.ipynb",
      "provenance": [],
      "authorship_tag": "ABX9TyPtXfJIJ5fkP0ZuDPz3H0bF",
      "include_colab_link": true
    },
    "kernelspec": {
      "name": "python3",
      "display_name": "Python 3"
    },
    "language_info": {
      "name": "python"
    }
  },
  "cells": [
    {
      "cell_type": "markdown",
      "metadata": {
        "id": "view-in-github",
        "colab_type": "text"
      },
      "source": [
        "<a href=\"https://colab.research.google.com/github/srishhh/My-Captain-AI/blob/main/Challenge_Classification.ipynb\" target=\"_parent\"><img src=\"https://colab.research.google.com/assets/colab-badge.svg\" alt=\"Open In Colab\"/></a>"
      ]
    },
    {
      "cell_type": "markdown",
      "metadata": {
        "id": "kA2BInJRyw_T"
      },
      "source": [
        "*Image* *classification* "
      ]
    },
    {
      "cell_type": "markdown",
      "metadata": {
        "id": "sicmeUIl4Wg9"
      },
      "source": [
        "Will be making use of decision Tree classification Algorithm"
      ]
    },
    {
      "cell_type": "markdown",
      "metadata": {
        "id": "KSuEnuFr28qy"
      },
      "source": [
        "1) Using Iris Flower dataset for our image classification"
      ]
    },
    {
      "cell_type": "code",
      "metadata": {
        "colab": {
          "base_uri": "https://localhost:8080/"
        },
        "id": "PORg4FpiyIvh",
        "outputId": "4244f152-2888-4a6f-811e-3c39a68628c6"
      },
      "source": [
        "from sklearn import datasets #importing toy dataset\n",
        "iris=datasets.load_iris() #loading iris data set\n",
        "x=iris.data #storing the features\n",
        "y=iris.target #our target variable\n",
        "from sklearn.model_selection import train_test_split #time to split data into train and test\n",
        "x_train,x_test,y_train,y_test=train_test_split(x,y,test_size=.3) #here test data is 30% of our total data and train is 70%\n",
        "from sklearn import tree #our algorithm\n",
        "classifier=tree.DecisionTreeClassifier()\n",
        "classifier.fit(x_train,y_train)\n",
        "predictions=classifier.predict(x_test) #predicting using features in test model\n",
        "from sklearn.metrics import accuracy_score #calculating accuracy of the model\n",
        "print(accuracy_score(y_test,predictions))"
      ],
      "execution_count": 3,
      "outputs": [
        {
          "output_type": "stream",
          "text": [
            "0.9777777777777777\n"
          ],
          "name": "stdout"
        }
      ]
    },
    {
      "cell_type": "markdown",
      "metadata": {
        "id": "1eMbOczY3I1w"
      },
      "source": [
        "2) Using Breast Cancer Wisconsin Dataset"
      ]
    },
    {
      "cell_type": "code",
      "metadata": {
        "colab": {
          "base_uri": "https://localhost:8080/"
        },
        "id": "611o3DAO3_-C",
        "outputId": "118b7a69-3dcb-4bc4-823a-c48d31965bdb"
      },
      "source": [
        "from sklearn import datasets #importing toy dataset\n",
        "cancer=datasets.load_breast_cancer() #loading the dataset\n",
        "x=cancer.data\n",
        "y=cancer.target\n",
        "from sklearn.model_selection import train_test_split #time to split data into train and test\n",
        "x_train,x_test,y_train,y_test=train_test_split(x,y,test_size=.4) #here test data is 40% of our total data and train is 60%\n",
        "from sklearn import tree #importing the algorithm\n",
        "classifier=tree.DecisionTreeClassifier() #decision tree algorithm\n",
        "classifier.fit(x_train,y_train)\n",
        "predictions=classifier.predict(x_test) #predicting using features in test model\n",
        "from sklearn.metrics import accuracy_score #calculating accuracy of the model\n",
        "print(accuracy_score(y_test,predictions))"
      ],
      "execution_count": 7,
      "outputs": [
        {
          "output_type": "stream",
          "text": [
            "0.9122807017543859\n"
          ],
          "name": "stdout"
        }
      ]
    }
  ]
}